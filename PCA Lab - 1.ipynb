{
 "cells": [
  {
   "cell_type": "code",
   "execution_count": 1,
   "metadata": {},
   "outputs": [],
   "source": [
    "from numpy import array"
   ]
  },
  {
   "cell_type": "code",
   "execution_count": 2,
   "metadata": {},
   "outputs": [],
   "source": [
    "from numpy import mean"
   ]
  },
  {
   "cell_type": "code",
   "execution_count": 3,
   "metadata": {},
   "outputs": [],
   "source": [
    "from numpy import cov"
   ]
  },
  {
   "cell_type": "code",
   "execution_count": 4,
   "metadata": {},
   "outputs": [],
   "source": [
    "from numpy.linalg import eig"
   ]
  },
  {
   "cell_type": "code",
   "execution_count": 5,
   "metadata": {},
   "outputs": [],
   "source": [
    "import pandas as pd"
   ]
  },
  {
   "cell_type": "code",
   "execution_count": 6,
   "metadata": {},
   "outputs": [],
   "source": [
    "#define a mateix"
   ]
  },
  {
   "cell_type": "code",
   "execution_count": 7,
   "metadata": {},
   "outputs": [],
   "source": [
    "P = array([[1.2, 2.4],\n",
    "          [0.5, 1.8],\n",
    "          [2, 4.5],\n",
    "          [2.8, 3.1],\n",
    "          [1.1, 2.4],\n",
    "          [5, 1.7],\n",
    "          [2.1, 3.2],\n",
    "          [3, 5.1],\n",
    "          [4.7, 3.4],\n",
    "          [2.3, 3.1]])"
   ]
  },
  {
   "cell_type": "code",
   "execution_count": 8,
   "metadata": {},
   "outputs": [
    {
     "name": "stdout",
     "output_type": "stream",
     "text": [
      "[[1.2 2.4]\n",
      " [0.5 1.8]\n",
      " [2.  4.5]\n",
      " [2.8 3.1]\n",
      " [1.1 2.4]\n",
      " [5.  1.7]\n",
      " [2.1 3.2]\n",
      " [3.  5.1]\n",
      " [4.7 3.4]\n",
      " [2.3 3.1]]\n"
     ]
    }
   ],
   "source": [
    "print(P)"
   ]
  },
  {
   "cell_type": "code",
   "execution_count": 9,
   "metadata": {},
   "outputs": [],
   "source": [
    "#mean"
   ]
  },
  {
   "cell_type": "code",
   "execution_count": 10,
   "metadata": {},
   "outputs": [],
   "source": [
    "M =mean(P.T,axis=1)"
   ]
  },
  {
   "cell_type": "code",
   "execution_count": 11,
   "metadata": {},
   "outputs": [
    {
     "name": "stdout",
     "output_type": "stream",
     "text": [
      "[2.47 3.07]\n"
     ]
    }
   ],
   "source": [
    "print (M)"
   ]
  },
  {
   "cell_type": "code",
   "execution_count": 12,
   "metadata": {},
   "outputs": [],
   "source": [
    "C = P - M"
   ]
  },
  {
   "cell_type": "code",
   "execution_count": 13,
   "metadata": {},
   "outputs": [
    {
     "name": "stdout",
     "output_type": "stream",
     "text": [
      "[[-1.27 -0.67]\n",
      " [-1.97 -1.27]\n",
      " [-0.47  1.43]\n",
      " [ 0.33  0.03]\n",
      " [-1.37 -0.67]\n",
      " [ 2.53 -1.37]\n",
      " [-0.37  0.13]\n",
      " [ 0.53  2.03]\n",
      " [ 2.23  0.33]\n",
      " [-0.17  0.03]]\n"
     ]
    }
   ],
   "source": [
    "print(C)"
   ]
  },
  {
   "cell_type": "code",
   "execution_count": 14,
   "metadata": {},
   "outputs": [],
   "source": [
    "#Calculate covariance matrix"
   ]
  },
  {
   "cell_type": "code",
   "execution_count": 15,
   "metadata": {},
   "outputs": [],
   "source": [
    "V = cov(C.T)"
   ]
  },
  {
   "cell_type": "code",
   "execution_count": 16,
   "metadata": {},
   "outputs": [
    {
     "name": "stdout",
     "output_type": "stream",
     "text": [
      "[[2.169      0.21122222]\n",
      " [0.21122222 1.18677778]]\n"
     ]
    }
   ],
   "source": [
    "print(V)"
   ]
  },
  {
   "cell_type": "code",
   "execution_count": 17,
   "metadata": {},
   "outputs": [],
   "source": [
    "#Eigen decomposition of covariance matrix"
   ]
  },
  {
   "cell_type": "code",
   "execution_count": 18,
   "metadata": {},
   "outputs": [],
   "source": [
    "values, vectors = eig(V)"
   ]
  },
  {
   "cell_type": "code",
   "execution_count": 19,
   "metadata": {},
   "outputs": [
    {
     "name": "stdout",
     "output_type": "stream",
     "text": [
      "[2.21249618 1.1432816 ]\n"
     ]
    }
   ],
   "source": [
    "print(values)"
   ]
  },
  {
   "cell_type": "code",
   "execution_count": 20,
   "metadata": {},
   "outputs": [
    {
     "name": "stdout",
     "output_type": "stream",
     "text": [
      "[[ 0.97944857 -0.20169406]\n",
      " [ 0.20169406  0.97944857]]\n"
     ]
    }
   ],
   "source": [
    "print(vectors)"
   ]
  },
  {
   "cell_type": "code",
   "execution_count": 21,
   "metadata": {},
   "outputs": [],
   "source": [
    "K = vectors.T.dot(C.T)"
   ]
  },
  {
   "cell_type": "code",
   "execution_count": 22,
   "metadata": {},
   "outputs": [
    {
     "name": "stdout",
     "output_type": "stream",
     "text": [
      "[[-1.37903471 -0.40007909]\n",
      " [-2.18566514 -0.8465624 ]\n",
      " [-0.17191833  1.49540767]\n",
      " [ 0.32926885 -0.03717558]\n",
      " [-1.47697956 -0.37990969]\n",
      " [ 2.20168403 -1.85213051]\n",
      " [-0.33617574  0.20195512]\n",
      " [ 0.92854668  1.88138275]\n",
      " [ 2.25072936 -0.12655972]\n",
      " [-0.16045544  0.06367145]]\n"
     ]
    }
   ],
   "source": [
    "print(K.T)"
   ]
  },
  {
   "cell_type": "code",
   "execution_count": 23,
   "metadata": {},
   "outputs": [],
   "source": [
    "from sklearn.decomposition import PCA"
   ]
  },
  {
   "cell_type": "code",
   "execution_count": 24,
   "metadata": {},
   "outputs": [],
   "source": [
    "pca = PCA(2)"
   ]
  },
  {
   "cell_type": "code",
   "execution_count": 25,
   "metadata": {},
   "outputs": [
    {
     "data": {
      "text/plain": [
       "array([[-1.37903471, -0.40007909],\n",
       "       [-2.18566514, -0.8465624 ],\n",
       "       [-0.17191833,  1.49540767],\n",
       "       [ 0.32926885, -0.03717558],\n",
       "       [-1.47697956, -0.37990969],\n",
       "       [ 2.20168403, -1.85213051],\n",
       "       [-0.33617574,  0.20195512],\n",
       "       [ 0.92854668,  1.88138275],\n",
       "       [ 2.25072936, -0.12655972],\n",
       "       [-0.16045544,  0.06367145]])"
      ]
     },
     "execution_count": 25,
     "metadata": {},
     "output_type": "execute_result"
    }
   ],
   "source": [
    "pca.fit_transform(P)"
   ]
  },
  {
   "cell_type": "code",
   "execution_count": 26,
   "metadata": {},
   "outputs": [
    {
     "name": "stdout",
     "output_type": "stream",
     "text": [
      "[[ 0.97944857  0.20169406]\n",
      " [-0.20169406  0.97944857]]\n"
     ]
    }
   ],
   "source": [
    "print(pca.components_)"
   ]
  },
  {
   "cell_type": "code",
   "execution_count": 27,
   "metadata": {},
   "outputs": [
    {
     "name": "stdout",
     "output_type": "stream",
     "text": [
      "[2.21249618 1.1432816 ]\n"
     ]
    }
   ],
   "source": [
    "print(pca.explained_variance_)"
   ]
  },
  {
   "cell_type": "code",
   "execution_count": 28,
   "metadata": {},
   "outputs": [],
   "source": [
    "B= pca.transform(P)"
   ]
  },
  {
   "cell_type": "code",
   "execution_count": 29,
   "metadata": {},
   "outputs": [
    {
     "name": "stdout",
     "output_type": "stream",
     "text": [
      "[[-1.37903471 -0.40007909]\n",
      " [-2.18566514 -0.8465624 ]\n",
      " [-0.17191833  1.49540767]\n",
      " [ 0.32926885 -0.03717558]\n",
      " [-1.47697956 -0.37990969]\n",
      " [ 2.20168403 -1.85213051]\n",
      " [-0.33617574  0.20195512]\n",
      " [ 0.92854668  1.88138275]\n",
      " [ 2.25072936 -0.12655972]\n",
      " [-0.16045544  0.06367145]]\n"
     ]
    }
   ],
   "source": [
    "print(B)"
   ]
  },
  {
   "cell_type": "code",
   "execution_count": null,
   "metadata": {},
   "outputs": [],
   "source": []
  }
 ],
 "metadata": {
  "kernelspec": {
   "display_name": "Python 3",
   "language": "python",
   "name": "python3"
  },
  "language_info": {
   "codemirror_mode": {
    "name": "ipython",
    "version": 3
   },
   "file_extension": ".py",
   "mimetype": "text/x-python",
   "name": "python",
   "nbconvert_exporter": "python",
   "pygments_lexer": "ipython3",
   "version": "3.8.3"
  }
 },
 "nbformat": 4,
 "nbformat_minor": 4
}
