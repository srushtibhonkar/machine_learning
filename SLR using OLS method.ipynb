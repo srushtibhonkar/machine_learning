{
 "cells": [
  {
   "cell_type": "code",
   "execution_count": 1,
   "metadata": {},
   "outputs": [],
   "source": [
    "import pandas as pd"
   ]
  },
  {
   "cell_type": "code",
   "execution_count": 2,
   "metadata": {},
   "outputs": [],
   "source": [
    "import numpy as np"
   ]
  },
  {
   "cell_type": "code",
   "execution_count": 3,
   "metadata": {},
   "outputs": [],
   "source": [
    "import statsmodels.api as sm"
   ]
  },
  {
   "cell_type": "code",
   "execution_count": 4,
   "metadata": {},
   "outputs": [],
   "source": [
    "import seaborn as sns"
   ]
  },
  {
   "cell_type": "code",
   "execution_count": 5,
   "metadata": {},
   "outputs": [],
   "source": [
    "import matplotlib.pyplot as plt"
   ]
  },
  {
   "cell_type": "code",
   "execution_count": 6,
   "metadata": {},
   "outputs": [],
   "source": [
    "import math"
   ]
  },
  {
   "cell_type": "code",
   "execution_count": 7,
   "metadata": {},
   "outputs": [],
   "source": [
    "df = pd.read_csv('marks_attendance.csv')"
   ]
  },
  {
   "cell_type": "code",
   "execution_count": 8,
   "metadata": {},
   "outputs": [
    {
     "data": {
      "text/html": [
       "<div>\n",
       "<style scoped>\n",
       "    .dataframe tbody tr th:only-of-type {\n",
       "        vertical-align: middle;\n",
       "    }\n",
       "\n",
       "    .dataframe tbody tr th {\n",
       "        vertical-align: top;\n",
       "    }\n",
       "\n",
       "    .dataframe thead th {\n",
       "        text-align: right;\n",
       "    }\n",
       "</style>\n",
       "<table border=\"1\" class=\"dataframe\">\n",
       "  <thead>\n",
       "    <tr style=\"text-align: right;\">\n",
       "      <th></th>\n",
       "      <th>Attendance</th>\n",
       "      <th>MSE</th>\n",
       "      <th>ESE</th>\n",
       "    </tr>\n",
       "  </thead>\n",
       "  <tbody>\n",
       "    <tr>\n",
       "      <th>0</th>\n",
       "      <td>70</td>\n",
       "      <td>10</td>\n",
       "      <td>42</td>\n",
       "    </tr>\n",
       "    <tr>\n",
       "      <th>1</th>\n",
       "      <td>92</td>\n",
       "      <td>7</td>\n",
       "      <td>39</td>\n",
       "    </tr>\n",
       "    <tr>\n",
       "      <th>2</th>\n",
       "      <td>67</td>\n",
       "      <td>3</td>\n",
       "      <td>32</td>\n",
       "    </tr>\n",
       "    <tr>\n",
       "      <th>3</th>\n",
       "      <td>82</td>\n",
       "      <td>16</td>\n",
       "      <td>50</td>\n",
       "    </tr>\n",
       "    <tr>\n",
       "      <th>4</th>\n",
       "      <td>80</td>\n",
       "      <td>9</td>\n",
       "      <td>44</td>\n",
       "    </tr>\n",
       "  </tbody>\n",
       "</table>\n",
       "</div>"
      ],
      "text/plain": [
       "   Attendance  MSE  ESE\n",
       "0          70   10   42\n",
       "1          92    7   39\n",
       "2          67    3   32\n",
       "3          82   16   50\n",
       "4          80    9   44"
      ]
     },
     "execution_count": 8,
     "metadata": {},
     "output_type": "execute_result"
    }
   ],
   "source": [
    "df.head()"
   ]
  },
  {
   "cell_type": "code",
   "execution_count": 9,
   "metadata": {},
   "outputs": [
    {
     "data": {
      "text/html": [
       "<div>\n",
       "<style scoped>\n",
       "    .dataframe tbody tr th:only-of-type {\n",
       "        vertical-align: middle;\n",
       "    }\n",
       "\n",
       "    .dataframe tbody tr th {\n",
       "        vertical-align: top;\n",
       "    }\n",
       "\n",
       "    .dataframe thead th {\n",
       "        text-align: right;\n",
       "    }\n",
       "</style>\n",
       "<table border=\"1\" class=\"dataframe\">\n",
       "  <thead>\n",
       "    <tr style=\"text-align: right;\">\n",
       "      <th></th>\n",
       "      <th>Attendance</th>\n",
       "      <th>MSE</th>\n",
       "      <th>ESE</th>\n",
       "    </tr>\n",
       "  </thead>\n",
       "  <tbody>\n",
       "    <tr>\n",
       "      <th>68</th>\n",
       "      <td>80</td>\n",
       "      <td>10</td>\n",
       "      <td>47</td>\n",
       "    </tr>\n",
       "    <tr>\n",
       "      <th>69</th>\n",
       "      <td>78</td>\n",
       "      <td>8</td>\n",
       "      <td>40</td>\n",
       "    </tr>\n",
       "    <tr>\n",
       "      <th>70</th>\n",
       "      <td>92</td>\n",
       "      <td>9</td>\n",
       "      <td>49</td>\n",
       "    </tr>\n",
       "    <tr>\n",
       "      <th>71</th>\n",
       "      <td>78</td>\n",
       "      <td>11</td>\n",
       "      <td>53</td>\n",
       "    </tr>\n",
       "    <tr>\n",
       "      <th>72</th>\n",
       "      <td>78</td>\n",
       "      <td>12</td>\n",
       "      <td>58</td>\n",
       "    </tr>\n",
       "  </tbody>\n",
       "</table>\n",
       "</div>"
      ],
      "text/plain": [
       "    Attendance  MSE  ESE\n",
       "68          80   10   47\n",
       "69          78    8   40\n",
       "70          92    9   49\n",
       "71          78   11   53\n",
       "72          78   12   58"
      ]
     },
     "execution_count": 9,
     "metadata": {},
     "output_type": "execute_result"
    }
   ],
   "source": [
    "df.tail()"
   ]
  },
  {
   "cell_type": "code",
   "execution_count": 10,
   "metadata": {},
   "outputs": [
    {
     "data": {
      "text/html": [
       "<div>\n",
       "<style scoped>\n",
       "    .dataframe tbody tr th:only-of-type {\n",
       "        vertical-align: middle;\n",
       "    }\n",
       "\n",
       "    .dataframe tbody tr th {\n",
       "        vertical-align: top;\n",
       "    }\n",
       "\n",
       "    .dataframe thead th {\n",
       "        text-align: right;\n",
       "    }\n",
       "</style>\n",
       "<table border=\"1\" class=\"dataframe\">\n",
       "  <thead>\n",
       "    <tr style=\"text-align: right;\">\n",
       "      <th></th>\n",
       "      <th>Attendance</th>\n",
       "      <th>MSE</th>\n",
       "      <th>ESE</th>\n",
       "    </tr>\n",
       "  </thead>\n",
       "  <tbody>\n",
       "    <tr>\n",
       "      <th>count</th>\n",
       "      <td>73.000000</td>\n",
       "      <td>73.000000</td>\n",
       "      <td>73.000000</td>\n",
       "    </tr>\n",
       "    <tr>\n",
       "      <th>mean</th>\n",
       "      <td>81.698630</td>\n",
       "      <td>9.780822</td>\n",
       "      <td>46.630137</td>\n",
       "    </tr>\n",
       "    <tr>\n",
       "      <th>std</th>\n",
       "      <td>9.506847</td>\n",
       "      <td>3.047069</td>\n",
       "      <td>6.617542</td>\n",
       "    </tr>\n",
       "    <tr>\n",
       "      <th>min</th>\n",
       "      <td>62.000000</td>\n",
       "      <td>3.000000</td>\n",
       "      <td>32.000000</td>\n",
       "    </tr>\n",
       "    <tr>\n",
       "      <th>25%</th>\n",
       "      <td>75.000000</td>\n",
       "      <td>8.000000</td>\n",
       "      <td>42.000000</td>\n",
       "    </tr>\n",
       "    <tr>\n",
       "      <th>50%</th>\n",
       "      <td>80.000000</td>\n",
       "      <td>10.000000</td>\n",
       "      <td>47.000000</td>\n",
       "    </tr>\n",
       "    <tr>\n",
       "      <th>75%</th>\n",
       "      <td>90.000000</td>\n",
       "      <td>11.000000</td>\n",
       "      <td>50.000000</td>\n",
       "    </tr>\n",
       "    <tr>\n",
       "      <th>max</th>\n",
       "      <td>98.000000</td>\n",
       "      <td>17.000000</td>\n",
       "      <td>64.000000</td>\n",
       "    </tr>\n",
       "  </tbody>\n",
       "</table>\n",
       "</div>"
      ],
      "text/plain": [
       "       Attendance        MSE        ESE\n",
       "count   73.000000  73.000000  73.000000\n",
       "mean    81.698630   9.780822  46.630137\n",
       "std      9.506847   3.047069   6.617542\n",
       "min     62.000000   3.000000  32.000000\n",
       "25%     75.000000   8.000000  42.000000\n",
       "50%     80.000000  10.000000  47.000000\n",
       "75%     90.000000  11.000000  50.000000\n",
       "max     98.000000  17.000000  64.000000"
      ]
     },
     "execution_count": 10,
     "metadata": {},
     "output_type": "execute_result"
    }
   ],
   "source": [
    "df.describe()"
   ]
  },
  {
   "cell_type": "code",
   "execution_count": 11,
   "metadata": {},
   "outputs": [
    {
     "name": "stdout",
     "output_type": "stream",
     "text": [
      "<class 'pandas.core.frame.DataFrame'>\n",
      "RangeIndex: 73 entries, 0 to 72\n",
      "Data columns (total 3 columns):\n",
      " #   Column      Non-Null Count  Dtype\n",
      "---  ------      --------------  -----\n",
      " 0   Attendance  73 non-null     int64\n",
      " 1   MSE         73 non-null     int64\n",
      " 2   ESE         73 non-null     int64\n",
      "dtypes: int64(3)\n",
      "memory usage: 1.8 KB\n"
     ]
    }
   ],
   "source": [
    "df.info()"
   ]
  },
  {
   "cell_type": "code",
   "execution_count": 12,
   "metadata": {},
   "outputs": [
    {
     "data": {
      "text/plain": [
       "<seaborn.axisgrid.PairGrid at 0x1cefb901910>"
      ]
     },
     "execution_count": 12,
     "metadata": {},
     "output_type": "execute_result"
    },
    {
     "data": {
      "image/png": "[encoded data removed]",
      "text/plain": [
       "<Figure size 540x540 with 12 Axes>"
      ]
     },
     "metadata": {
      "needs_background": "light"
     },
     "output_type": "display_data"
    }
   ],
   "source": [
    "sns.pairplot(df)"
   ]
  },
  {
   "cell_type": "code",
   "execution_count": 13,
   "metadata": {},
   "outputs": [
    {
     "data": {
      "image/png": "[encoded data removed]",
      "text/plain": [
       "<Figure size 720x720 with 2 Axes>"
      ]
     },
     "metadata": {
      "needs_background": "light"
     },
     "output_type": "display_data"
    }
   ],
   "source": [
    "fig, ax1= plt.subplots(figsize=(10,10))\n",
    "sns.heatmap(df.corr(),cmap=\"YlGnBu\",annot=True)\n",
    "plt.show()"
   ]
  },
  {
   "cell_type": "code",
   "execution_count": 14,
   "metadata": {},
   "outputs": [],
   "source": [
    "#Correlation analysis"
   ]
  },
  {
   "cell_type": "code",
   "execution_count": 15,
   "metadata": {},
   "outputs": [
    {
     "data": {
      "text/html": [
       "<style  type=\"text/css\" >\n",
       "    #T_19b00065_6708_11ec_a1b8_98e743215eferow0_col0 {\n",
       "            background-color:  #081d58;\n",
       "            color:  #f1f1f1;\n",
       "        }    #T_19b00065_6708_11ec_a1b8_98e743215eferow0_col1 {\n",
       "            background-color:  #ffffd9;\n",
       "            color:  #000000;\n",
       "        }    #T_19b00065_6708_11ec_a1b8_98e743215eferow0_col2 {\n",
       "            background-color:  #ffffd9;\n",
       "            color:  #000000;\n",
       "        }    #T_19b00065_6708_11ec_a1b8_98e743215eferow1_col0 {\n",
       "            background-color:  #fcfed1;\n",
       "            color:  #000000;\n",
       "        }    #T_19b00065_6708_11ec_a1b8_98e743215eferow1_col1 {\n",
       "            background-color:  #081d58;\n",
       "            color:  #f1f1f1;\n",
       "        }    #T_19b00065_6708_11ec_a1b8_98e743215eferow1_col2 {\n",
       "            background-color:  #2355a4;\n",
       "            color:  #f1f1f1;\n",
       "        }    #T_19b00065_6708_11ec_a1b8_98e743215eferow2_col0 {\n",
       "            background-color:  #ffffd9;\n",
       "            color:  #000000;\n",
       "        }    #T_19b00065_6708_11ec_a1b8_98e743215eferow2_col1 {\n",
       "            background-color:  #2356a4;\n",
       "            color:  #f1f1f1;\n",
       "        }    #T_19b00065_6708_11ec_a1b8_98e743215eferow2_col2 {\n",
       "            background-color:  #081d58;\n",
       "            color:  #f1f1f1;\n",
       "        }</style><table id=\"T_19b00065_6708_11ec_a1b8_98e743215efe\" ><thead>    <tr>        <th class=\"blank level0\" ></th>        <th class=\"col_heading level0 col0\" >Attendance</th>        <th class=\"col_heading level0 col1\" >MSE</th>        <th class=\"col_heading level0 col2\" >ESE</th>    </tr></thead><tbody>\n",
       "                <tr>\n",
       "                        <th id=\"T_19b00065_6708_11ec_a1b8_98e743215efelevel0_row0\" class=\"row_heading level0 row0\" >Attendance</th>\n",
       "                        <td id=\"T_19b00065_6708_11ec_a1b8_98e743215eferow0_col0\" class=\"data row0 col0\" >1.000000</td>\n",
       "                        <td id=\"T_19b00065_6708_11ec_a1b8_98e743215eferow0_col1\" class=\"data row0 col1\" >-0.080943</td>\n",
       "                        <td id=\"T_19b00065_6708_11ec_a1b8_98e743215eferow0_col2\" class=\"data row0 col2\" >-0.109972</td>\n",
       "            </tr>\n",
       "            <tr>\n",
       "                        <th id=\"T_19b00065_6708_11ec_a1b8_98e743215efelevel0_row1\" class=\"row_heading level0 row1\" >MSE</th>\n",
       "                        <td id=\"T_19b00065_6708_11ec_a1b8_98e743215eferow1_col0\" class=\"data row1 col0\" >-0.080943</td>\n",
       "                        <td id=\"T_19b00065_6708_11ec_a1b8_98e743215eferow1_col1\" class=\"data row1 col1\" >1.000000</td>\n",
       "                        <td id=\"T_19b00065_6708_11ec_a1b8_98e743215eferow1_col2\" class=\"data row1 col2\" >0.751530</td>\n",
       "            </tr>\n",
       "            <tr>\n",
       "                        <th id=\"T_19b00065_6708_11ec_a1b8_98e743215efelevel0_row2\" class=\"row_heading level0 row2\" >ESE</th>\n",
       "                        <td id=\"T_19b00065_6708_11ec_a1b8_98e743215eferow2_col0\" class=\"data row2 col0\" >-0.109972</td>\n",
       "                        <td id=\"T_19b00065_6708_11ec_a1b8_98e743215eferow2_col1\" class=\"data row2 col1\" >0.751530</td>\n",
       "                        <td id=\"T_19b00065_6708_11ec_a1b8_98e743215eferow2_col2\" class=\"data row2 col2\" >1.000000</td>\n",
       "            </tr>\n",
       "    </tbody></table>"
      ],
      "text/plain": [
       "<pandas.io.formats.style.Styler at 0x1cefc3172e0>"
      ]
     },
     "execution_count": 15,
     "metadata": {},
     "output_type": "execute_result"
    }
   ],
   "source": [
    "corr=df.corr()\n",
    "corr.style.background_gradient(cmap='YlGnBu')"
   ]
  },
  {
   "cell_type": "code",
   "execution_count": 16,
   "metadata": {},
   "outputs": [],
   "source": [
    "#First model to explore relationship between MSE and ESE"
   ]
  },
  {
   "cell_type": "code",
   "execution_count": 17,
   "metadata": {},
   "outputs": [
    {
     "data": {
      "text/plain": [
       "<matplotlib.axes._subplots.AxesSubplot at 0x1cefcc2b6a0>"
      ]
     },
     "execution_count": 17,
     "metadata": {},
     "output_type": "execute_result"
    },
    {
     "data": {
      "image/png": "[encoded data removed]",
      "text/plain": [
       "<Figure size 432x288 with 1 Axes>"
      ]
     },
     "metadata": {
      "needs_background": "light"
     },
     "output_type": "display_data"
    }
   ],
   "source": [
    "X = df[\"MSE\"]\n",
    "y = df[\"ESE\"]\n",
    "\n",
    "sns.scatterplot(X ,y)"
   ]
  },
  {
   "cell_type": "code",
   "execution_count": 18,
   "metadata": {},
   "outputs": [
    {
     "name": "stdout",
     "output_type": "stream",
     "text": [
      "    const  MSE\n",
      "0     1.0   10\n",
      "1     1.0    7\n",
      "2     1.0    3\n",
      "3     1.0   16\n",
      "4     1.0    9\n",
      "..    ...  ...\n",
      "68    1.0   10\n",
      "69    1.0    8\n",
      "70    1.0    9\n",
      "71    1.0   11\n",
      "72    1.0   12\n",
      "\n",
      "[73 rows x 2 columns]\n"
     ]
    }
   ],
   "source": [
    "x_test = df['ESE']\n",
    "x_train = sm.add_constant(df[['MSE']])\n",
    "print(x_train)"
   ]
  },
  {
   "cell_type": "code",
   "execution_count": 19,
   "metadata": {},
   "outputs": [
    {
     "data": {
      "text/plain": [
       "(73,)"
      ]
     },
     "execution_count": 19,
     "metadata": {},
     "output_type": "execute_result"
    }
   ],
   "source": [
    "x_test.shape"
   ]
  },
  {
   "cell_type": "code",
   "execution_count": 20,
   "metadata": {},
   "outputs": [
    {
     "name": "stdout",
     "output_type": "stream",
     "text": [
      "                            OLS Regression Results                            \n",
      "==============================================================================\n",
      "Dep. Variable:                    ESE   R-squared:                       0.565\n",
      "Model:                            OLS   Adj. R-squared:                  0.559\n",
      "Method:                 Least Squares   F-statistic:                     92.14\n",
      "Date:                Mon, 27 Dec 2021   Prob (F-statistic):           1.85e-14\n",
      "Time:                        16:58:32   Log-Likelihood:                -210.66\n",
      "No. Observations:                  73   AIC:                             425.3\n",
      "Df Residuals:                      71   BIC:                             429.9\n",
      "Df Model:                           1                                         \n",
      "Covariance Type:            nonrobust                                         \n",
      "==============================================================================\n",
      "                 coef    std err          t      P>|t|      [0.025      0.975]\n",
      "------------------------------------------------------------------------------\n",
      "const         30.6664      1.741     17.616      0.000      27.195      34.137\n",
      "MSE            1.6322      0.170      9.599      0.000       1.293       1.971\n",
      "==============================================================================\n",
      "Omnibus:                        1.412   Durbin-Watson:                   1.441\n",
      "Prob(Omnibus):                  0.494   Jarque-Bera (JB):                1.119\n",
      "Skew:                          -0.029   Prob(JB):                        0.572\n",
      "Kurtosis:                       2.396   Cond. No.                         34.9\n",
      "==============================================================================\n",
      "\n",
      "Warnings:\n",
      "[1] Standard Errors assume that the covariance matrix of the errors is correctly specified.\n"
     ]
    }
   ],
   "source": [
    "mod = sm.OLS(x_test, x_train)\n",
    "results = mod.fit()\n",
    "print (results.summary())"
   ]
  },
  {
   "cell_type": "code",
   "execution_count": 21,
   "metadata": {},
   "outputs": [],
   "source": [
    "def RSE(y_test, y_train):\n",
    "   \n",
    "    y_test = np.array(y_test)\n",
    "    y_train = np.array(y_train)\n",
    "    RSS = np.sum(np.square(y_test - y_train))\n",
    "\n",
    "    rse = math.sqrt(RSS / (len(y_test) - 2))\n",
    "    return rse"
   ]
  },
  {
   "cell_type": "code",
   "execution_count": 22,
   "metadata": {},
   "outputs": [
    {
     "name": "stdout",
     "output_type": "stream",
     "text": [
      "4.396224549647787\n"
     ]
    }
   ],
   "source": [
    "rse= RSE(df['ESE'],results.predict())\n",
    "print(rse)"
   ]
  },
  {
   "cell_type": "code",
   "execution_count": 23,
   "metadata": {},
   "outputs": [],
   "source": [
    "#Second model to explore relationship between attendance and ESE"
   ]
  },
  {
   "cell_type": "code",
   "execution_count": 24,
   "metadata": {},
   "outputs": [
    {
     "data": {
      "text/plain": [
       "<matplotlib.axes._subplots.AxesSubplot at 0x1cefccb8d60>"
      ]
     },
     "execution_count": 24,
     "metadata": {},
     "output_type": "execute_result"
    },
    {
     "data": {
      "image/png": "[encoded data removed]",
      "text/plain": [
       "<Figure size 432x288 with 1 Axes>"
      ]
     },
     "metadata": {
      "needs_background": "light"
     },
     "output_type": "display_data"
    }
   ],
   "source": [
    "X1 = df[\"Attendance\"]\n",
    "y1 = df[\"ESE\"]\n",
    "\n",
    "sns.scatterplot(X1 ,y1)"
   ]
  },
  {
   "cell_type": "code",
   "execution_count": 25,
   "metadata": {},
   "outputs": [
    {
     "name": "stdout",
     "output_type": "stream",
     "text": [
      "    const  Attendance\n",
      "0     1.0          70\n",
      "1     1.0          92\n",
      "2     1.0          67\n",
      "3     1.0          82\n",
      "4     1.0          80\n",
      "..    ...         ...\n",
      "68    1.0          80\n",
      "69    1.0          78\n",
      "70    1.0          92\n",
      "71    1.0          78\n",
      "72    1.0          78\n",
      "\n",
      "[73 rows x 2 columns]\n"
     ]
    }
   ],
   "source": [
    "x_test1 = df['ESE']\n",
    "x_train1 = sm.add_constant(df[['Attendance']])\n",
    "print(x_train1)"
   ]
  },
  {
   "cell_type": "code",
   "execution_count": 26,
   "metadata": {},
   "outputs": [
    {
     "data": {
      "text/plain": [
       "(73,)"
      ]
     },
     "execution_count": 26,
     "metadata": {},
     "output_type": "execute_result"
    }
   ],
   "source": [
    "x_test1.shape"
   ]
  },
  {
   "cell_type": "code",
   "execution_count": 27,
   "metadata": {},
   "outputs": [
    {
     "data": {
      "text/plain": [
       "(73, 2)"
      ]
     },
     "execution_count": 27,
     "metadata": {},
     "output_type": "execute_result"
    }
   ],
   "source": [
    "x_train1.shape"
   ]
  },
  {
   "cell_type": "code",
   "execution_count": 28,
   "metadata": {},
   "outputs": [
    {
     "name": "stdout",
     "output_type": "stream",
     "text": [
      "                            OLS Regression Results                            \n",
      "==============================================================================\n",
      "Dep. Variable:                    ESE   R-squared:                       0.012\n",
      "Model:                            OLS   Adj. R-squared:                 -0.002\n",
      "Method:                 Least Squares   F-statistic:                    0.8692\n",
      "Date:                Mon, 27 Dec 2021   Prob (F-statistic):              0.354\n",
      "Time:                        17:00:05   Log-Likelihood:                -240.58\n",
      "No. Observations:                  73   AIC:                             485.2\n",
      "Df Residuals:                      71   BIC:                             489.8\n",
      "Df Model:                           1                                         \n",
      "Covariance Type:            nonrobust                                         \n",
      "==============================================================================\n",
      "                 coef    std err          t      P>|t|      [0.025      0.975]\n",
      "------------------------------------------------------------------------------\n",
      "const         52.8841      6.753      7.831      0.000      39.419      66.349\n",
      "Attendance    -0.0765      0.082     -0.932      0.354      -0.240       0.087\n",
      "==============================================================================\n",
      "Omnibus:                        0.286   Durbin-Watson:                   1.788\n",
      "Prob(Omnibus):                  0.867   Jarque-Bera (JB):                0.425\n",
      "Skew:                           0.129   Prob(JB):                        0.808\n",
      "Kurtosis:                       2.730   Cond. No.                         716.\n",
      "==============================================================================\n",
      "\n",
      "Warnings:\n",
      "[1] Standard Errors assume that the covariance matrix of the errors is correctly specified.\n"
     ]
    }
   ],
   "source": [
    "mod1 = sm.OLS(x_test1, x_train1) \n",
    "results1 = mod1.fit() \n",
    "print (results1.summary())"
   ]
  },
  {
   "cell_type": "code",
   "execution_count": 29,
   "metadata": {},
   "outputs": [],
   "source": [
    "def RSE(y_test1, y_train1):\n",
    "   \n",
    "    y_test1 = np.array(y_test1)\n",
    "    y_train1 = np.array(y_train1)\n",
    "    RSS = np.sum(np.square(y_test1 - y_train1))\n",
    "\n",
    "    rse = math.sqrt(RSS / (len(y_test1) - 2))\n",
    "    return rse"
   ]
  },
  {
   "cell_type": "code",
   "execution_count": 30,
   "metadata": {},
   "outputs": [
    {
     "name": "stdout",
     "output_type": "stream",
     "text": [
      "4.396224549647787\n"
     ]
    }
   ],
   "source": [
    "rse= RSE(df['ESE'],results.predict())\n",
    "print(rse)"
   ]
  },
  {
   "cell_type": "code",
   "execution_count": null,
   "metadata": {},
   "outputs": [],
   "source": []
  },
  {
   "cell_type": "code",
   "execution_count": null,
   "metadata": {},
   "outputs": [],
   "source": []
  }
 ],
 "metadata": {
  "kernelspec": {
   "display_name": "Python 3",
   "language": "python",
   "name": "python3"
  },
  "language_info": {
   "codemirror_mode": {
    "name": "ipython",
    "version": 3
   },
   "file_extension": ".py",
   "mimetype": "text/x-python",
   "name": "python",
   "nbconvert_exporter": "python",
   "pygments_lexer": "ipython3",
   "version": "3.8.3"
  }
 },
 "nbformat": 4,
 "nbformat_minor": 4
}
